{
 "cells": [
  {
   "cell_type": "code",
   "execution_count": 1,
   "id": "0afd502f",
   "metadata": {},
   "outputs": [],
   "source": [
    "#imports\n",
    "import altair as alt\n",
    "import geopandas as gp"
   ]
  },
  {
   "cell_type": "code",
   "execution_count": 2,
   "id": "91020a4f",
   "metadata": {},
   "outputs": [],
   "source": [
    "# read in EPA NWI data from gdb file\n",
    "nwi = gp.read_file(\"SmartLocationDatabase.gdb\")\n",
    "nwi"
   ]
  },
  {
   "cell_type": "code",
   "execution_count": 9,
   "id": "711ea62d",
   "metadata": {},
   "outputs": [],
   "source": [
    "nwi_chicago = nwi[nwi[\"CBSA\"] == \"16980\"] #filter to Chicago CBSA"
   ]
  },
  {
   "cell_type": "markdown",
   "id": "dbfcefdc",
   "metadata": {},
   "source": [
    "Another question - I know that disabling max rows is probably not best practice, but there are unavoidably more than 5000 block groups in each CBSA. Is there an alternative to disabling max rows here or is this okay?"
   ]
  },
  {
   "cell_type": "code",
   "execution_count": null,
   "id": "16ab2175",
   "metadata": {},
   "outputs": [],
   "source": [
    "alt.data_transformers.disable_max_rows()\n",
    "alt.Chart(nwi_chicago).mark_geoshape()"
   ]
  },
  {
   "cell_type": "code",
   "execution_count": null,
   "id": "ac3c9a6a",
   "metadata": {},
   "outputs": [],
   "source": [
    "alt.Chart(nwi_chicago).mark_geoshape(\n",
    "    stroke='white',\n",
    "    strokeWidth=1.5\n",
    ").encode(\n",
    "    fill='CBSA_Name:N'\n",
    ")"
   ]
  }
 ],
 "metadata": {
  "kernelspec": {
   "display_name": "data-viz-capp-30239",
   "language": "python",
   "name": "python3"
  },
  "language_info": {
   "codemirror_mode": {
    "name": "ipython",
    "version": 3
   },
   "file_extension": ".py",
   "mimetype": "text/x-python",
   "name": "python",
   "nbconvert_exporter": "python",
   "pygments_lexer": "ipython3",
   "version": "3.12.11"
  }
 },
 "nbformat": 4,
 "nbformat_minor": 5
}
