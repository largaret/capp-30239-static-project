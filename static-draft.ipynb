{
 "cells": [
  {
   "cell_type": "markdown",
   "id": "ffc2ceb1",
   "metadata": {},
   "source": [
    "## Static Draft"
   ]
  },
  {
   "cell_type": "code",
   "execution_count": null,
   "id": "19708790",
   "metadata": {},
   "outputs": [],
   "source": [
    "#imports\n",
    "import altair as alt\n",
    "import pandas as pd\n",
    "import geopandas as gp\n",
    "import math"
   ]
  },
  {
   "cell_type": "markdown",
   "id": "574408a2",
   "metadata": {},
   "source": [
    "### Load data"
   ]
  },
  {
   "cell_type": "code",
   "execution_count": null,
   "id": "4c34946a",
   "metadata": {},
   "outputs": [],
   "source": [
    "# read in EPA NWI data from gdb file\n",
    "nwi = gp.read_file(\"SmartLocationDatabase.gdb\")"
   ]
  },
  {
   "cell_type": "code",
   "execution_count": null,
   "id": "6aad38b5",
   "metadata": {},
   "outputs": [],
   "source": [
    "for col in nwi.columns:\n",
    "    print(col)"
   ]
  },
  {
   "cell_type": "code",
   "execution_count": null,
   "id": "59685895",
   "metadata": {},
   "outputs": [],
   "source": [
    "# create county column from state and county fips codes\n",
    "nwi[\"STATEFP\"] = nwi[\"STATEFP\"].astype(int)\n",
    "nwi[\"COUNTYFP\"] = nwi[\"COUNTYFP\"].astype(int)\n",
    "nwi[\"COUNTY5\"] = nwi[\"STATEFP\"] * 1000 + nwi[\"COUNTYFP\"]"
   ]
  },
  {
   "cell_type": "code",
   "execution_count": null,
   "id": "a28d85d7",
   "metadata": {},
   "outputs": [],
   "source": [
    "# read in 2020 election data\n",
    "votes_2020 = gp.read_file(\"2020_precincts-with-results.geojson\")"
   ]
  },
  {
   "cell_type": "code",
   "execution_count": null,
   "id": "7d8cc75c",
   "metadata": {},
   "outputs": [],
   "source": [
    "votes_2020.plot(column=\"pct_dem_lead\")"
   ]
  },
  {
   "cell_type": "code",
   "execution_count": null,
   "id": "6c1b9f51",
   "metadata": {},
   "outputs": [],
   "source": [
    "# get county, state, precinct from GEOID\n",
    "votes_2020[\"GEOID\"] = votes_2020[\"GEOID\"].astype(\"string\")\n",
    "votes_2020[\"COUNTY5\"] = votes_2020[\"GEOID\"].str.split(\"-\").str.get(0).astype(int)\n",
    "votes_2020[\"STATEFP\"] = votes_2020[\"COUNTY5\"].apply(lambda x: math.floor(x/1000))\n",
    "votes_2020[\"PRECINCT\"] = votes_2020[\"GEOID\"].str.split(\"-\").str.get(1)"
   ]
  },
  {
   "cell_type": "code",
   "execution_count": null,
   "id": "79479b49",
   "metadata": {},
   "outputs": [],
   "source": [
    "# get dem lead by county\n",
    "vc = votes_2020.groupby(\"COUNTY5\", as_index=False).agg({\"votes_dem\": \"sum\", \"votes_rep\": \"sum\", \"votes_total\": \"sum\"})\n",
    "vc[\"pct_dem_lead\"] = vc[\"votes_dem\"] / vc[\"votes_total\"] - 0.5\n",
    "votes_2020_counties = vc"
   ]
  },
  {
   "cell_type": "code",
   "execution_count": null,
   "id": "a7c0e10f",
   "metadata": {},
   "outputs": [],
   "source": [
    "# merge county-level voting data to block-level walkability data\n",
    "vars = [\"STATEFP\", \"COUNTYFP\", \"TRACTCE\", \"BLKGRPCE\", \"COUNTY5\", \"CBSA\",\n",
    "        \"TotPop\", \"NatWalkInd\",\n",
    "        \"AutoOwn0\", \"Pct_AO0\", \"AutoOwn1\", \"Pct_AO1\", \"AutoOwn2p\", \"Pct_AO2p\", \n",
    "        \"Workers\", \"R_LowWageWk\", \"R_MedWageWk\", \"R_HiWageWk\", \"R_PCTLOWWAGE\", \"TotEmp\",\n",
    "        \"geometry\"]\n",
    "nwi[\"CBSA\"].astype(str)\n",
    "nwi_2020 = pd.merge(nwi, votes_2020_counties, on=\"COUNTY5\")"
   ]
  },
  {
   "cell_type": "code",
   "execution_count": null,
   "id": "eea093ca",
   "metadata": {},
   "outputs": [],
   "source": [
    "# alternate: merge county-level with county-level nwi\n",
    "nwi_counties = nwi.groupby([\"COUNTY5\", \"STATEFP\", \"CBSA\", \"CBSA_Name\"], as_index=False).agg({\"TotPop\": \"sum\", \"NatWalkInd\": \"mean\", \"R_PCTLOWWAGE\": \"mean\"})\n",
    "nwi_2020_counties = pd.merge(nwi_counties, votes_2020_counties, on=\"COUNTY5\")"
   ]
  },
  {
   "cell_type": "code",
   "execution_count": null,
   "id": "0a9dbaca",
   "metadata": {},
   "outputs": [],
   "source": [
    "# CBSA code lookups\n",
    "NY = \"New York-Newark-Jersey City, NY-NJ-PA\"\n",
    "LA = \"Los Angeles-Long Beach-Anaheim, CA\"\n",
    "CHI =\"Chicago-Naperville-Elgin, IL-IN-WI\"\n",
    "HOU = \"Houston-The Woodlands-Sugar Land, TX\"\n",
    "SEA = \"Seattle-Tacoma-Bellevue, WA\"\n",
    "DAL = \"Dallas-Fort Worth-Arlington, TX\"\n",
    "\n",
    "CBSA_lookup = {\n",
    "    \"35620\": NY,\n",
    "    \"31080\": LA,\n",
    "    \"16980\": CHI,\n",
    "    \"26420\": HOU,\n",
    "    \"42660\": SEA,\n",
    "    \"19100\": DAL\n",
    "}\n",
    "CBSA_codes = [\"35620\", \"31080\", \"16980\", \"26420\", \"19100\"] #\"42660\",\n",
    "\n",
    "domain = [CBSA_lookup[code] for code in CBSA_codes]\n",
    "range_ = ['#4269d0', '#efb118', '#ff725c', '#6cc5b0', '#3ca951']"
   ]
  },
  {
   "cell_type": "code",
   "execution_count": null,
   "id": "70c252fc",
   "metadata": {},
   "outputs": [],
   "source": [
    "data_counties = nwi_2020_counties[nwi_2020_counties[\"CBSA\"].isin(CBSA_codes)]\n",
    "all_data = nwi_2020[nwi_2020[\"CBSA\"].isin(CBSA_codes)]"
   ]
  },
  {
   "cell_type": "code",
   "execution_count": null,
   "id": "92bbfe7a",
   "metadata": {},
   "outputs": [],
   "source": [
    "all_data"
   ]
  },
  {
   "cell_type": "markdown",
   "id": "8bec705a",
   "metadata": {},
   "source": [
    "## Visualizations"
   ]
  },
  {
   "cell_type": "markdown",
   "id": "714272c8",
   "metadata": {},
   "source": [
    "#### Walkability by population"
   ]
  },
  {
   "cell_type": "code",
   "execution_count": null,
   "id": "4eacfb7c",
   "metadata": {},
   "outputs": [],
   "source": [
    "data = all_data[[\"CBSA_Name\", \"NatWalkInd\", \"TotPop\", \"geometry\"]]"
   ]
  },
  {
   "cell_type": "code",
   "execution_count": null,
   "id": "3e6761d9",
   "metadata": {},
   "outputs": [],
   "source": [
    "# \n",
    "def nwi_by_population_by_cbsa():\n",
    "    chart = alt.Chart(data).mark_bar().encode(\n",
    "        alt.X(\"NatWalkInd:Q\").bin(),\n",
    "        alt.Y(\"TotPop:Q\", aggregate=\"sum\"),\n",
    "        # facet and color to visually distinguish cities\n",
    "        alt.Facet(\"CBSA_Name:N\"),\n",
    "        alt.Color(\"CBSA_Name:N\", legend=None).scale(domain=domain, range=range_)\n",
    "    )\n",
    "    return chart\n",
    "\n",
    "nwi_by_population_by_cbsa()"
   ]
  },
  {
   "cell_type": "code",
   "execution_count": null,
   "id": "a8a68fa8",
   "metadata": {},
   "outputs": [],
   "source": [
    "def nwi_proportion_by_cbsa():\n",
    "    data = all_data[[\"CBSA_Name\", \"NatWalkInd\", \"TotPop\", \"geometry\"]]\n",
    "    chart = alt.Chart(data).mark_bar().encode(\n",
    "        alt.X(\"TotPop\", aggregate=\"sum\").stack(\"normalize\").scale(scheme=\"bluegreen-6\"),\n",
    "        alt.Y(\"CBSA_Name\"),\n",
    "        alt.Color(\"NatWalkInd\").bin(maxbins=10).legend(direction=\"horizontal\", orient=\"top\")\n",
    "    )\n",
    "    return chart\n",
    "\n",
    "nwi_proportion_by_cbsa()"
   ]
  },
  {
   "cell_type": "markdown",
   "id": "f8920f57",
   "metadata": {},
   "source": [
    "#### Walkability vs Partisanship"
   ]
  },
  {
   "cell_type": "code",
   "execution_count": null,
   "id": "b52e1c3d",
   "metadata": {},
   "outputs": [],
   "source": [
    "data = data_counties"
   ]
  },
  {
   "cell_type": "code",
   "execution_count": null,
   "id": "484f0c6b",
   "metadata": {},
   "outputs": [],
   "source": [
    "# NWI vs Dem lead (county)\n",
    "alt.Chart(data_counties).mark_point().encode(\n",
    "    alt.X(\"NatWalkInd:Q\").title(\"Walkability Index\"),\n",
    "    alt.Y(\"pct_dem_lead:Q\").title(\"Percent Dem lead\"),\n",
    "    alt.Size(\"TotPop:Q\", legend=None),\n",
    "    alt.Color(\"CBSA_Name:N\").scale(domain=domain, range=range_),\n",
    "    alt.Shape(\"CBSA_Name:N\")\n",
    ")"
   ]
  },
  {
   "cell_type": "markdown",
   "id": "e55b2613",
   "metadata": {},
   "source": [
    "#### "
   ]
  },
  {
   "cell_type": "code",
   "execution_count": null,
   "id": "58c2475a",
   "metadata": {},
   "outputs": [],
   "source": [
    "data = all_data\n",
    "data\n",
    "alt.Chart(data).mark_bar().encode(\n",
    "    # stack car ownership by CBSA\n",
    ")"
   ]
  },
  {
   "cell_type": "markdown",
   "id": "1d6f16df",
   "metadata": {},
   "source": [
    "#### Geo"
   ]
  },
  {
   "cell_type": "code",
   "execution_count": null,
   "id": "63cad783",
   "metadata": {},
   "outputs": [],
   "source": [
    "data = all_data[[\"NatWalkInd\", \"CBSA\", \"CBSA_Name\", \"pct_dem_lead\", 'geometry']]\n",
    "data = data[data[\"CBSA\"] == \"19100\"]\n",
    "data"
   ]
  },
  {
   "cell_type": "code",
   "execution_count": null,
   "id": "4aa497ed",
   "metadata": {},
   "outputs": [],
   "source": [
    "data.plot()"
   ]
  },
  {
   "cell_type": "code",
   "execution_count": null,
   "id": "c34ef598",
   "metadata": {},
   "outputs": [],
   "source": [
    "data\n",
    "alt.Chart(data).mark_geoshape(\n",
    "    stroke='white',\n",
    "    strokeWidth=1.5\n",
    ").encode(\n",
    "    fill='CBSA_Name:N'\n",
    ")"
   ]
  },
  {
   "cell_type": "code",
   "execution_count": null,
   "id": "fc86f331",
   "metadata": {},
   "outputs": [],
   "source": [
    "from vega_datasets import data as dta\n",
    "states_data = alt.topo_feature(dta.us_10m.url, feature='states')\n",
    "\n",
    "states = alt.Chart(states_data).mark_geoshape(\n",
    "    fill='lightgray',\n",
    "    stroke='white'\n",
    ").project('albersUsa').properties(\n",
    "    width=500,\n",
    "    height=300\n",
    ")\n",
    "\n"
   ]
  }
 ],
 "metadata": {
  "kernelspec": {
   "display_name": "data-viz-capp-30239",
   "language": "python",
   "name": "python3"
  },
  "language_info": {
   "codemirror_mode": {
    "name": "ipython",
    "version": 3
   },
   "file_extension": ".py",
   "mimetype": "text/x-python",
   "name": "python",
   "nbconvert_exporter": "python",
   "pygments_lexer": "ipython3",
   "version": "3.12.11"
  }
 },
 "nbformat": 4,
 "nbformat_minor": 5
}
