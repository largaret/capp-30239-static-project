{
 "cells": [
  {
   "cell_type": "markdown",
   "id": "ffc2ceb1",
   "metadata": {},
   "source": [
    "## Static Draft"
   ]
  },
  {
   "cell_type": "code",
   "execution_count": null,
   "id": "19708790",
   "metadata": {},
   "outputs": [],
   "source": [
    "#imports\n",
    "import altair as alt\n",
    "import pandas as pd\n",
    "import geopandas as gp\n",
    "import math"
   ]
  },
  {
   "cell_type": "code",
   "execution_count": null,
   "id": "bfa40ccf",
   "metadata": {},
   "outputs": [],
   "source": [
    "alt.theme.enable(\"fivethirtyeight\")"
   ]
  },
  {
   "cell_type": "markdown",
   "id": "574408a2",
   "metadata": {},
   "source": [
    "### Load data"
   ]
  },
  {
   "cell_type": "code",
   "execution_count": null,
   "id": "4c34946a",
   "metadata": {},
   "outputs": [],
   "source": [
    "# read in EPA NWI data from gdb file\n",
    "nwi = gp.read_file(\"SmartLocationDatabase.gdb\")"
   ]
  },
  {
   "cell_type": "code",
   "execution_count": null,
   "id": "6aad38b5",
   "metadata": {},
   "outputs": [],
   "source": [
    "for col in nwi.columns:\n",
    "    print(col)"
   ]
  },
  {
   "cell_type": "code",
   "execution_count": null,
   "id": "59685895",
   "metadata": {},
   "outputs": [],
   "source": [
    "# create county column from state and county fips codes\n",
    "nwi[\"STATEFP\"] = nwi[\"STATEFP\"].astype(int)\n",
    "nwi[\"COUNTYFP\"] = nwi[\"COUNTYFP\"].astype(int)\n",
    "nwi[\"COUNTY5\"] = nwi[\"STATEFP\"] * 1000 + nwi[\"COUNTYFP\"]"
   ]
  },
  {
   "cell_type": "code",
   "execution_count": null,
   "id": "a28d85d7",
   "metadata": {},
   "outputs": [],
   "source": [
    "# read in 2020 election data\n",
    "# this isn't even necessary - should delete\n",
    "votes_2020 = gp.read_file(\"2020_precincts-with-results.geojson\")"
   ]
  },
  {
   "cell_type": "code",
   "execution_count": null,
   "id": "6c1b9f51",
   "metadata": {},
   "outputs": [],
   "source": [
    "# get county, state, precinct from GEOID\n",
    "votes_2020[\"GEOID\"] = votes_2020[\"GEOID\"].astype(\"string\")\n",
    "votes_2020[\"COUNTY5\"] = votes_2020[\"GEOID\"].str.split(\"-\").str.get(0).astype(int)\n",
    "votes_2020[\"STATEFP\"] = votes_2020[\"COUNTY5\"].apply(lambda x: math.floor(x/1000))\n",
    "votes_2020[\"PRECINCT\"] = votes_2020[\"GEOID\"].str.split(\"-\").str.get(1)"
   ]
  },
  {
   "cell_type": "code",
   "execution_count": null,
   "id": "79479b49",
   "metadata": {},
   "outputs": [],
   "source": [
    "# get dem lead by county\n",
    "vc = votes_2020.groupby(\"COUNTY5\", as_index=False).agg({\"votes_dem\": \"sum\", \"votes_rep\": \"sum\", \"votes_total\": \"sum\"})\n",
    "vc[\"pct_dem_lead\"] = vc[\"votes_dem\"] / vc[\"votes_total\"] - 0.5\n",
    "votes_2020_counties = vc"
   ]
  },
  {
   "cell_type": "code",
   "execution_count": null,
   "id": "a7c0e10f",
   "metadata": {},
   "outputs": [],
   "source": [
    "# merge county-level voting data to block-level walkability data\n",
    "vars = [\"STATEFP\", \"COUNTYFP\", \"TRACTCE\", \"BLKGRPCE\", \"COUNTY5\", \"CBSA\",\n",
    "        \"TotPop\", \"NatWalkInd\",\n",
    "        \"AutoOwn0\", \"Pct_AO0\", \"AutoOwn1\", \"Pct_AO1\", \"AutoOwn2p\", \"Pct_AO2p\", \n",
    "        \"Workers\", \"R_LowWageWk\", \"R_MedWageWk\", \"R_HiWageWk\", \"R_PCTLOWWAGE\", \"TotEmp\",\n",
    "        \"geometry\"]\n",
    "nwi[\"CBSA\"].astype(str)\n",
    "nwi_2020 = pd.merge(nwi, votes_2020_counties, on=\"COUNTY5\")"
   ]
  },
  {
   "cell_type": "code",
   "execution_count": null,
   "id": "eea093ca",
   "metadata": {},
   "outputs": [],
   "source": [
    "# alternate: merge county-level with county-level nwi\n",
    "nwi_counties = nwi.groupby([\"COUNTY5\", \"STATEFP\", \"CBSA\", \"CBSA_Name\"], as_index=False).agg({\"TotPop\": \"sum\", \"NatWalkInd\": \"mean\", \"R_PCTLOWWAGE\": \"mean\"})\n",
    "nwi_2020_counties = pd.merge(nwi_counties, votes_2020_counties, on=\"COUNTY5\")"
   ]
  },
  {
   "cell_type": "code",
   "execution_count": null,
   "id": "0a9dbaca",
   "metadata": {},
   "outputs": [],
   "source": [
    "# CBSA code lookups\n",
    "NY = \"New York-Newark-Jersey City, NY-NJ-PA\"\n",
    "LA = \"Los Angeles-Long Beach-Anaheim, CA\"\n",
    "CHI =\"Chicago-Naperville-Elgin, IL-IN-WI\"\n",
    "HOU = \"Houston-The Woodlands-Sugar Land, TX\"\n",
    "SEA = \"Seattle-Tacoma-Bellevue, WA\"\n",
    "DAL = \"Dallas-Fort Worth-Arlington, TX\"\n",
    "\n",
    "CBSA_lookup = {\n",
    "    \"35620\": NY,\n",
    "    \"31080\": LA,\n",
    "    \"16980\": CHI,\n",
    "    \"26420\": HOU,\n",
    "    \"42660\": SEA,\n",
    "    \"19100\": DAL\n",
    "}\n",
    "CBSA_codes = [\"35620\", \"31080\", \"16980\", \"26420\", \"19100\"] #\"42660\",\n",
    "\n",
    "domain = [CBSA_lookup[code] for code in CBSA_codes]\n",
    "range_ = ['#a463f2', '#efb118', '#ff725c', '#6cc5b0', '#4269d0']"
   ]
  },
  {
   "cell_type": "code",
   "execution_count": null,
   "id": "70c252fc",
   "metadata": {},
   "outputs": [],
   "source": [
    "data_counties = nwi_2020_counties[nwi_2020_counties[\"CBSA\"].isin(CBSA_codes)]\n",
    "all_data = nwi_2020[nwi_2020[\"CBSA\"].isin(CBSA_codes)]"
   ]
  },
  {
   "cell_type": "code",
   "execution_count": null,
   "id": "b845977b",
   "metadata": {},
   "outputs": [],
   "source": [
    "alt.data_transformers.disable_max_rows()"
   ]
  },
  {
   "cell_type": "markdown",
   "id": "8bec705a",
   "metadata": {},
   "source": [
    "## Visualizations"
   ]
  },
  {
   "cell_type": "markdown",
   "id": "714272c8",
   "metadata": {},
   "source": [
    "#### Walkability by population"
   ]
  },
  {
   "cell_type": "code",
   "execution_count": null,
   "id": "4eacfb7c",
   "metadata": {},
   "outputs": [],
   "source": [
    "data = all_data[[\"CBSA_Name\", \"NatWalkInd\", \"TotPop\", \"geometry\"]]"
   ]
  },
  {
   "cell_type": "code",
   "execution_count": null,
   "id": "3e6761d9",
   "metadata": {},
   "outputs": [],
   "source": [
    "# TO DO: reorder by CBSA by pop descending\n",
    "def nwi_by_population_by_cbsa():\n",
    "    chart = alt.Chart(data).mark_bar().encode(\n",
    "        alt.X(\"NatWalkInd:Q\").bin().title(\"National Walkability Index\"),\n",
    "        alt.Y(\"TotPop:Q\", aggregate=\"sum\").title(\"Population\"),\n",
    "        # facet and color to visually distinguish cities\n",
    "        alt.Facet(\"CBSA_Name:N\"),\n",
    "        alt.Color(\"CBSA_Name:N\", legend=None).scale(domain=domain, range=range_),\n",
    "    ).properties(\n",
    "    width=300,\n",
    "    height=300\n",
    "    )\n",
    "    return chart\n",
    "\n",
    "nwi_by_population_by_cbsa()"
   ]
  },
  {
   "cell_type": "code",
   "execution_count": null,
   "id": "02d5e258",
   "metadata": {},
   "outputs": [],
   "source": [
    "def nwi_pop_density(i):\n",
    "    data = all_data[all_data[\"CBSA\"] == CBSA_codes[i]]\n",
    "    chart = alt.Chart(data).mark_line(color=range_[i]).encode(\n",
    "        alt.X(\"NatWalkInd:Q\"),\n",
    "        alt.Y('TotPop:Q'),\n",
    "    ).transform_density(\n",
    "        'NatWalkInd',\n",
    "        as_=['NatWalkInd', 'TotPop'],\n",
    "    ).properties(title=domain[i])\n",
    "    return chart\n",
    "\n",
    "\n",
    "# this crashes the kernel! \n",
    "# TO DO: better way of combing density charts\n",
    "\"\"\"\n",
    "def nwi_pop_density_all():\n",
    "    chart1 = nwi_pop_density(0)\n",
    "    for i, _ in enumerate(CBSA_codes):\n",
    "        chart2 = nwi_pop_density(i)\n",
    "        chart1 = alt.hconcat(chart1, chart2)\n",
    "    return chart1\n",
    "\n",
    "\n",
    "nwi_pop_density_all()\n",
    "\"\"\"\n",
    "\n",
    "nwi_pop_density(4)\n"
   ]
  },
  {
   "cell_type": "code",
   "execution_count": null,
   "id": "a8a68fa8",
   "metadata": {},
   "outputs": [],
   "source": [
    "def nwi_proportion_by_cbsa():\n",
    "    data = all_data[[\"CBSA_Name\", \"NatWalkInd\", \"TotPop\", \"geometry\"]]\n",
    "    chart = alt.Chart(data).mark_bar().encode(\n",
    "        alt.X(\"TotPop\", aggregate=\"sum\").stack(\"normalize\").title(\"Proportion of Population by NWI\"),\n",
    "        alt.Y(\"CBSA_Name\").title(\"Metropolitan Area\"),\n",
    "        alt.Color(\"NatWalkInd\").bin(maxbins=10).legend(direction=\"horizontal\", orient=\"top\").scale(scheme=\"inferno\").title(\"National Walkability Index\")\n",
    "    ).properties(\n",
    "    width=800,\n",
    "    height=300\n",
    "    )\n",
    "    return chart\n",
    "\n",
    "nwi_proportion_by_cbsa()"
   ]
  },
  {
   "cell_type": "markdown",
   "id": "f8920f57",
   "metadata": {},
   "source": [
    "#### Walkability vs Partisanship"
   ]
  },
  {
   "cell_type": "code",
   "execution_count": null,
   "id": "b52e1c3d",
   "metadata": {},
   "outputs": [],
   "source": [
    "data = data_counties"
   ]
  },
  {
   "cell_type": "code",
   "execution_count": null,
   "id": "484f0c6b",
   "metadata": {},
   "outputs": [],
   "source": [
    "# NWI vs Dem lead (county)\n",
    "chart = alt.Chart(data_counties).mark_point().encode(\n",
    "    alt.X(\"NatWalkInd:Q\").title(\"Walkability Index\"),\n",
    "    alt.Y(\"pct_dem_lead:Q\").title(\"Percent Dem lead\"),\n",
    "    #alt.Size(\"TotPop:Q\", legend=None),\n",
    "    alt.Color(\"CBSA_Name:N\").scale(domain=domain, range=range_),\n",
    "    alt.Shape(\"CBSA_Name:N\").scale(domain=domain)\n",
    ").properties(\n",
    "    width=300,\n",
    "    height=300\n",
    ")\n",
    "chart\n",
    "#chart.transform_regression('NatWalkInd', 'pct_dem_lead').mark_line()"
   ]
  },
  {
   "cell_type": "markdown",
   "id": "e55b2613",
   "metadata": {},
   "source": [
    "#### Car ownership"
   ]
  },
  {
   "cell_type": "code",
   "execution_count": null,
   "id": "bd784e6a",
   "metadata": {},
   "outputs": [],
   "source": [
    "#TO DO: convert from wide-form to long-form for car ownership\n",
    "# https://altair-viz.github.io/user_guide/transform/fold.html"
   ]
  },
  {
   "cell_type": "code",
   "execution_count": null,
   "id": "46a6fc74",
   "metadata": {},
   "outputs": [],
   "source": [
    "vars = [\"STATEFP\", \"COUNTY5\", \"CBSA\", \"CBSA_Name\",\n",
    "        \"TotPop\", \"NatWalkInd\",\n",
    "        \"AutoOwn0\", \"Pct_AO0\", \"AutoOwn1\", \"Pct_AO1\", \"AutoOwn2p\", \"Pct_AO2p\", \n",
    "        \"Workers\", \"R_LowWageWk\", \"R_MedWageWk\", \"R_HiWageWk\", \"R_PCTLOWWAGE\", \"TotEmp\",\n",
    "        \"geometry\"]\n",
    "data = all_data[vars]\n",
    "auto_data = data.groupby([\"CBSA\", \"CBSA_Name\"]).agg({\n",
    "    \"AutoOwn0\":\"sum\", \"AutoOwn1\":\"sum\", \"AutoOwn2p\":\"sum\",\n",
    "    \"Pct_AO0\":\"mean\", \"Pct_AO1\":\"mean\", \"Pct_AO2p\":\"mean\", \n",
    "    }).reset_index()\n",
    "auto_data.rename({\"Pct_AO0\": \"0 cars\", \"Pct_AO1\": \"1 car\", \"Pct_AO2p\": \"2+ cars\"}, axis='columns', inplace=True)\n",
    "\n",
    "boroughs = [36005, 36047, 36061, 36081, 36085]\n",
    "data_nyc = data[data[\"COUNTY5\"].isin(boroughs)]\n",
    "auto_data_nyc = data_nyc.groupby([\"CBSA\", \"CBSA_Name\"]).agg({\n",
    "    \"AutoOwn0\":\"sum\", \"AutoOwn1\":\"sum\", \"AutoOwn2p\":\"sum\",\n",
    "    \"Pct_AO0\":\"mean\", \"Pct_AO1\":\"mean\", \"Pct_AO2p\":\"mean\", \n",
    "    }).reset_index()\n",
    "auto_data_nyc.rename({\"Pct_AO0\": \"0 cars\", \"Pct_AO1\": \"1 car\", \"Pct_AO2p\": \"2+ cars\"}, axis='columns', inplace=True)\n"
   ]
  },
  {
   "cell_type": "code",
   "execution_count": null,
   "id": "58c2475a",
   "metadata": {},
   "outputs": [],
   "source": [
    "alt.Chart(auto_data).mark_bar().encode(\n",
    "    alt.X('pct:Q').title(\"Percent\"),\n",
    "    alt.Y('auto:N', title=None),\n",
    "    alt.Color('CBSA_Name').scale(domain=domain, range=range_).legend(orient='right'),\n",
    "    alt.Row('CBSA')\n",
    ").transform_fold(\n",
    "    as_=['auto', 'pct'],\n",
    "    fold=['0 cars', '1 car', '2+ cars']\n",
    ")"
   ]
  },
  {
   "cell_type": "code",
   "execution_count": null,
   "id": "50030cf2",
   "metadata": {},
   "outputs": [],
   "source": [
    "chart = alt.Chart(auto_data_nyc).mark_arc().encode(\n",
    "    alt.Theta('pct:Q').title(\"Percent\"),\n",
    "    alt.Color('auto:O', title=None).scale(range=[ \"#a1d99b\", \"#74c476\", \"#31a354\"]), #.scale(domain=domain, range=range_),\n",
    "    #alt.Color('CBSA_Name', legend=None).scale(domain=domain, range=range_),\n",
    "    #alt.Row('Car ownership in New York City')\n",
    ").transform_fold(\n",
    "    as_=['auto', 'pct'],\n",
    "    fold=['0 cars', '1 car', '2+ cars']\n",
    ").properties(\n",
    "    title=\"Car ownership in New York City\"\n",
    ") \n",
    "chart"
   ]
  },
  {
   "cell_type": "code",
   "execution_count": null,
   "id": "4d04a033",
   "metadata": {},
   "outputs": [],
   "source": [
    "# transform auto ownership data for heatmap\n",
    "AO_data = all_data\n",
    "AO_data[\"NWI_bin\"] = AO_data[\"NatWalkInd\"].astype(int).round()\n",
    "AO_data = AO_data.groupby(\"NWI_bin\").agg({\n",
    "    \"AutoOwn0\":\"sum\", \"AutoOwn1\":\"sum\", \"AutoOwn2p\":\"sum\",\n",
    "    }).reset_index()\n",
    "AO_data[\"total\"] = AO_data[\"AutoOwn0\"] + AO_data[\"AutoOwn1\"] + AO_data[\"AutoOwn2p\"]\n",
    "AO_data.rename({\"AutoOwn0\": \"0 cars\", \"AutoOwn1\": \"1 car\", \"AutoOwn2p\": \"2+ cars\"}, axis='columns', inplace=True)\n",
    "AO_data"
   ]
  },
  {
   "cell_type": "code",
   "execution_count": null,
   "id": "759eb176",
   "metadata": {},
   "outputs": [],
   "source": [
    "# heat map of NWI vs car ownership\n",
    "# AI: used VS Code's built-in code completion for assistance with formatting arguments for transform_fold\n",
    "\n",
    "alt.Chart(AO_data).mark_rect().encode(\n",
    "    alt.X(\"NWI_bin:O\", title=\"National Walkability Index\"),\n",
    "    alt.Y(\"auto:N\", title=\"Auto Ownership\"),\n",
    "    alt.Color(\"TotPop:Q\", title=\"Population\").scale(scheme=\"greens\"),\n",
    ").transform_fold(\n",
    "    as_=['auto', 'TotPop'],\n",
    "    fold=['0 cars', '1 car', '2+ cars']\n",
    ").properties(\n",
    "    width=600,\n",
    "    height=200,\n",
    "    title=\"National Walkability Index vs Car Ownership\"\n",
    ")"
   ]
  },
  {
   "cell_type": "code",
   "execution_count": null,
   "id": "ba0162fd",
   "metadata": {},
   "outputs": [],
   "source": [
    "binned_data = all_data\n",
    "binned_data[\"NWI_bin\"] = binned_data[\"NatWalkInd\"].astype(int).round()"
   ]
  },
  {
   "cell_type": "code",
   "execution_count": null,
   "id": "0b879eb8",
   "metadata": {},
   "outputs": [],
   "source": [
    "alt.Chart(binned_data).mark_rect().encode(\n",
    "    alt.X(\"NWI_bin:O\", title=\"National Walkability Index\"),\n",
    "    alt.Y(\"R_PCTLOWWAGE:N\", title=\"Pct Low Wage Households\"),\n",
    "    alt.Color(\"TotPop:Q\", title=\"Population\").scale(type=\"log\", scheme=\"greens\"),\n",
    ").transform_fold(\n",
    "    as_=['auto', 'TotPop'],\n",
    "    fold=['0 cars', '1 car', '2+ cars']\n",
    ").properties(\n",
    "    width=600,\n",
    "    height=200,\n",
    "    title=\"Heat map of National Walkability Index vs Car Ownership\"\n",
    ")"
   ]
  },
  {
   "cell_type": "markdown",
   "id": "b56085c2",
   "metadata": {},
   "source": [
    "#### Wealth vs car ownership"
   ]
  },
  {
   "cell_type": "code",
   "execution_count": null,
   "id": "0d0aa891",
   "metadata": {},
   "outputs": [],
   "source": [
    "data = all_data\n",
    "ny = data[data[\"CBSA\"] == \"35620\"]\n",
    "la = data[data[\"CBSA\"] == \"31080\"]\n",
    "chi = data[data[\"CBSA\"] == \"16980\"]\n",
    "hou = data[data[\"CBSA\"] == \"26420\"]\n",
    "dal = data[data[\"CBSA\"] == \"19100\"]"
   ]
  },
  {
   "cell_type": "code",
   "execution_count": null,
   "id": "2a0d783d",
   "metadata": {},
   "outputs": [],
   "source": [
    "data = ny"
   ]
  },
  {
   "cell_type": "code",
   "execution_count": null,
   "id": "13ecae19",
   "metadata": {},
   "outputs": [],
   "source": [
    "def no_car_v_wealth():\n",
    "\n",
    "    chart1 = alt.Chart(data[data[\"Pct_AO0\"] > 0.5]).mark_point().encode(\n",
    "        alt.X(\"NatWalkInd:Q\"),\n",
    "        alt.Y(\"R_PCTLOWWAGE\"),\n",
    "        alt.Color(\"pct_dem_lead\").scale(scheme=\"redblue\")\n",
    "    )\n",
    "    chart2 = alt.Chart(data[data[\"Pct_AO0\"] <= 0.5]).mark_point().encode(\n",
    "        alt.X(\"NatWalkInd:Q\"),\n",
    "        alt.Y(\"R_PCTLOWWAGE\"),\n",
    "        alt.Color(\"pct_dem_lead\").scale(scheme=\"redblue\")\n",
    "\n",
    "    )\n",
    "    return chart1 | chart2\n",
    "\n",
    "no_car_v_wealth()"
   ]
  },
  {
   "cell_type": "markdown",
   "id": "1d6f16df",
   "metadata": {},
   "source": [
    "#### Geo"
   ]
  },
  {
   "cell_type": "code",
   "execution_count": null,
   "id": "63cad783",
   "metadata": {},
   "outputs": [],
   "source": [
    "data = all_data[all_data[\"TotPop\"] > 1]\n",
    "ny = data[data[\"CBSA\"] == \"35620\"].to_crs(\"EPSG:4326\")\n",
    "la = data[data[\"CBSA\"] == \"31080\"].to_crs(\"EPSG:4326\")\n",
    "chi = data[data[\"CBSA\"] == \"16980\"].to_crs(\"EPSG:4326\")\n",
    "hou = data[data[\"CBSA\"] == \"26420\"].to_crs(\"EPSG:4326\")\n",
    "dal = data[data[\"CBSA\"] == \"19100\"].to_crs(\"EPSG:4326\")\n"
   ]
  },
  {
   "cell_type": "code",
   "execution_count": null,
   "id": "240ffebf",
   "metadata": {},
   "outputs": [],
   "source": [
    "alt.Chart(ny[ny[\"COUNTY5\"].isin(boroughs)]).mark_geoshape().encode(\n",
    "    alt.Color('NatWalkInd:Q').scale(scheme='inferno')\n",
    ")"
   ]
  },
  {
   "cell_type": "code",
   "execution_count": null,
   "id": "93daa165",
   "metadata": {},
   "outputs": [],
   "source": [
    "ny_vote = votes_2020[votes_2020[\"COUNTY5\"].isin(ny[\"COUNTY5\"].unique())].to_crs(\"EPSG:4326\")\n",
    "ny_vote"
   ]
  },
  {
   "cell_type": "code",
   "execution_count": null,
   "id": "eb19133a",
   "metadata": {},
   "outputs": [],
   "source": [
    "ny_vote = votes_2020[votes_2020[\"COUNTY5\"].isin(ny[\"COUNTY5\"].unique())].to_crs(\"EPSG:4326\")\n",
    "alt.Chart(ny_vote).mark_geoshape().encode(\n",
    "    alt.Color('pct_dem_lead:Q').scale(scheme='redblue')\n",
    ")"
   ]
  },
  {
   "cell_type": "code",
   "execution_count": null,
   "id": "89a12141",
   "metadata": {},
   "outputs": [],
   "source": [
    "chi[\"COUNTY5\"].unique()\n",
    "chi_cook = chi[chi[\"COUNTY5\"] == 17031]"
   ]
  },
  {
   "cell_type": "code",
   "execution_count": null,
   "id": "321acf42",
   "metadata": {},
   "outputs": [],
   "source": [
    "alt.Chart(chi_cook).mark_geoshape().encode(\n",
    "    alt.Color('NatWalkInd:Q').scale(scheme='inferno')\n",
    ").properties(\n",
    "    title=\"Cook County Walkability\",\n",
    "    width=600,\n",
    "    height=400\n",
    ")"
   ]
  },
  {
   "cell_type": "code",
   "execution_count": null,
   "id": "37ccdb37",
   "metadata": {},
   "outputs": [],
   "source": [
    "chi_vote = votes_2020[votes_2020[\"COUNTY5\"]==17031].to_crs(\"EPSG:4326\")\n",
    "alt.Chart(chi_vote).mark_geoshape().encode(\n",
    "    alt.Color('pct_dem_lead:Q').scale(scheme='redblue').title('Percent Democratic Lead')\n",
    ").properties(\n",
    "    title=\"Cook County 2020 Vote\",\n",
    "    width=600,\n",
    "    height=400\n",
    ")"
   ]
  },
  {
   "cell_type": "code",
   "execution_count": null,
   "id": "ff6eb584",
   "metadata": {},
   "outputs": [],
   "source": [
    "alt.Chart(chi_cook).mark_geoshape().encode(\n",
    "    alt.Color('D4c:Q').scale(scheme='goldgreen', reverse=True)\n",
    ").properties(\n",
    "    title=\"Transit Accessibility in Cook County\",\n",
    "    width=600,\n",
    "    height=400\n",
    ")"
   ]
  },
  {
   "cell_type": "code",
   "execution_count": null,
   "id": "bea39136",
   "metadata": {},
   "outputs": [],
   "source": [
    "alt.Chart(chi_cook[chi_cook[\"D5AR\"] > 0]).mark_geoshape().encode(\n",
    "    alt.Color('D5AR:Q').scale(scheme='magma', reverse=False).title(\"No. of jobs\")\n",
    ").properties(\n",
    "    title=\"Jobs within 45 min travel time by car, Cook County\",\n",
    "    width=600,\n",
    "    height=400\n",
    ")"
   ]
  },
  {
   "cell_type": "code",
   "execution_count": null,
   "id": "222e0ccb",
   "metadata": {},
   "outputs": [],
   "source": [
    "alt.Chart(chi_cook[chi_cook[\"D5BR\"] > 0]).mark_geoshape().encode(\n",
    "    alt.Color('D5BR:Q').scale(scheme='magma', reverse=False).title(\"No. of jobs\")\n",
    ").properties(\n",
    "    title=\"Jobs within 45 min travel time by transit, Cook County\",\n",
    "    width=600,\n",
    "    height=400\n",
    ")"
   ]
  },
  {
   "cell_type": "markdown",
   "id": "528e9872",
   "metadata": {},
   "source": [
    "#### Geopandas plots"
   ]
  },
  {
   "cell_type": "code",
   "execution_count": null,
   "id": "602f5e9c",
   "metadata": {},
   "outputs": [],
   "source": [
    "ny.plot(column=\"NatWalkInd\", \n",
    "        cmap=\"YlGn\", \n",
    "        legend=True, \n",
    "        figsize=(15, 10),\n",
    "        legend_kwds={\"label\": \"Walkability index\", \"orientation\": \"horizontal\"})"
   ]
  },
  {
   "cell_type": "code",
   "execution_count": null,
   "id": "7f6b3e87",
   "metadata": {},
   "outputs": [],
   "source": [
    "la.plot(column=\"NatWalkInd\", \n",
    "        cmap=\"YlGn\", \n",
    "        legend=True, \n",
    "        figsize=(15, 10),\n",
    "        legend_kwds={\"label\": \"Walkability index\", \"orientation\": \"horizontal\"})"
   ]
  },
  {
   "cell_type": "code",
   "execution_count": null,
   "id": "4aa497ed",
   "metadata": {},
   "outputs": [],
   "source": [
    "chi.plot(column=\"NatWalkInd\", \n",
    "        cmap=\"YlGn\", \n",
    "        legend=True, \n",
    "        figsize=(15, 10),\n",
    "        legend_kwds={\"label\": \"Walkability index\", \"orientation\": \"horizontal\"})"
   ]
  },
  {
   "cell_type": "code",
   "execution_count": null,
   "id": "ad803b23",
   "metadata": {},
   "outputs": [],
   "source": [
    "hou.plot(column=\"NatWalkInd\", \n",
    "        cmap=\"YlGn\", \n",
    "        legend=True, \n",
    "        figsize=(15, 10),\n",
    "        legend_kwds={\"label\": \"Walkability index\", \"orientation\": \"horizontal\"})"
   ]
  },
  {
   "cell_type": "code",
   "execution_count": null,
   "id": "d38813e1",
   "metadata": {},
   "outputs": [],
   "source": [
    "dal.plot(column=\"NatWalkInd\", \n",
    "        cmap=\"YlGn\", \n",
    "        legend=True, \n",
    "        figsize=(15, 10),\n",
    "        legend_kwds={\"label\": \"Walkability index\", \"orientation\": \"horizontal\"})"
   ]
  }
 ],
 "metadata": {
  "kernelspec": {
   "display_name": "data-viz-capp-30239",
   "language": "python",
   "name": "python3"
  },
  "language_info": {
   "codemirror_mode": {
    "name": "ipython",
    "version": 3
   },
   "file_extension": ".py",
   "mimetype": "text/x-python",
   "name": "python",
   "nbconvert_exporter": "python",
   "pygments_lexer": "ipython3",
   "version": "3.12.11"
  }
 },
 "nbformat": 4,
 "nbformat_minor": 5
}
